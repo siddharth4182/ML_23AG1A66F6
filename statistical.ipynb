{
  "nbformat": 4,
  "nbformat_minor": 0,
  "metadata": {
    "colab": {
      "provenance": [],
      "authorship_tag": "ABX9TyNZ2BJj/u3xY9uS63Br9K2r",
      "include_colab_link": true
    },
    "kernelspec": {
      "name": "python3",
      "display_name": "Python 3"
    },
    "language_info": {
      "name": "python"
    }
  },
  "cells": [
    {
      "cell_type": "markdown",
      "metadata": {
        "id": "view-in-github",
        "colab_type": "text"
      },
      "source": [
        "<a href=\"https://colab.research.google.com/github/siddharth4182/ML_23AG1A66F6/blob/main/statistical.ipynb\" target=\"_parent\"><img src=\"https://colab.research.google.com/assets/colab-badge.svg\" alt=\"Open In Colab\"/></a>"
      ]
    },
    {
      "cell_type": "code",
      "execution_count": 1,
      "metadata": {
        "colab": {
          "base_uri": "https://localhost:8080/"
        },
        "id": "oWVgCV7v7KzU",
        "outputId": "f0dda809-0ba7-46b4-d545-99666b5eef62"
      },
      "outputs": [
        {
          "output_type": "stream",
          "name": "stdout",
          "text": [
            "Mean: 5\n",
            "Median: 4.5\n",
            "Mode: 4\n",
            "Variance: 4.0\n",
            "Standard Deviation: 2.0\n"
          ]
        }
      ],
      "source": [
        "import numpy as np\n",
        "from statistics import mean, median, mode\n",
        "data = [2, 4, 4, 4, 5, 5, 7, 9]\n",
        "print(\"Mean:\", mean(data))\n",
        "print(\"Median:\", median(data))\n",
        "print(\"Mode:\", mode(data))\n",
        "print(\"Variance:\", np.var(data))\n",
        "print(\"Standard Deviation:\", np.std(data))"
      ]
    },
    {
      "cell_type": "markdown",
      "source": [
        "1. Number Functions\n",
        "\n",
        "math.ceil(x): Returns the smallest integer greater than or equal to x.\n",
        "\n",
        "math.floor(x): Returns the largest integer less than or equal to x.\n",
        "\n",
        "math.trunc(x): Truncates the decimal and returns the integer part."
      ],
      "metadata": {
        "id": "TiuV7-8vLmGs"
      }
    },
    {
      "cell_type": "code",
      "source": [
        "import math\n",
        "print(math.ceil(2.3))\n",
        "print(math.floor(2.7))\n",
        "print(math.trunc(8.9))\n",
        ""
      ],
      "metadata": {
        "colab": {
          "base_uri": "https://localhost:8080/"
        },
        "id": "cE6DoubV7Mzb",
        "outputId": "7e7c4027-f247-411c-b847-a0c06de88e13"
      },
      "execution_count": 3,
      "outputs": [
        {
          "output_type": "stream",
          "name": "stdout",
          "text": [
            "3\n",
            "2\n",
            "8\n"
          ]
        }
      ]
    },
    {
      "cell_type": "markdown",
      "source": [
        "2. Power and Logarithmic Functions\n",
        "\n",
        "math.pow(x, y): Returns x power y as a float.\n",
        "\n",
        "math.sqrt(x): Returns the square root of x.\n",
        "\n",
        "math.exp(x): Returns e power x (the exponential of x).\n",
        "\n",
        "math.log(x, base): Returns the logarithm of x to the given base."
      ],
      "metadata": {
        "id": "SiAiX75dLzjE"
      }
    },
    {
      "cell_type": "code",
      "source": [
        "print(math.pow(2, 3))\n",
        "print(math.sqrt(16))\n",
        "print(math.exp(2))\n",
        "print(math.log(100, 10))"
      ],
      "metadata": {
        "colab": {
          "base_uri": "https://localhost:8080/"
        },
        "id": "9dPdbxyHLuVE",
        "outputId": "a40745db-174b-4ca3-c715-5dc700f831df"
      },
      "execution_count": 4,
      "outputs": [
        {
          "output_type": "stream",
          "name": "stdout",
          "text": [
            "8.0\n",
            "4.0\n",
            "7.38905609893065\n",
            "2.0\n"
          ]
        }
      ]
    },
    {
      "cell_type": "markdown",
      "source": [
        "3. Trigonometric Functions\n",
        "\n",
        "math.sin(x), math.cos(x), math.tan(x): Trigonometric functions (input in radians).\n",
        "\n",
        "math.radians(x): Converts degrees to radians.\n",
        "\n",
        "math.degrees(x): Converts radians to degrees."
      ],
      "metadata": {
        "id": "pHbPgsgqMMbU"
      }
    },
    {
      "cell_type": "code",
      "source": [
        "print(math.sin(math.pi/2))\n",
        "print(math.cos(0))\n",
        "print(math.tan(math.pi/4))\n",
        "\n",
        "print(math.radians(90))\n",
        "\n",
        "print(math.degrees(math.pi))"
      ],
      "metadata": {
        "colab": {
          "base_uri": "https://localhost:8080/"
        },
        "id": "Fy9CBbsuL_8V",
        "outputId": "fc6ad31f-3998-402f-f47d-2b901f3e4a27"
      },
      "execution_count": 5,
      "outputs": [
        {
          "output_type": "stream",
          "name": "stdout",
          "text": [
            "1.0\n",
            "1.0\n",
            "0.9999999999999999\n",
            "1.5707963267948966\n",
            "180.0\n"
          ]
        }
      ]
    },
    {
      "cell_type": "markdown",
      "source": [
        "4. Special Functions\n",
        "\n",
        "math.factorial(x): Returns the factorial of x (x!).\n",
        "\n",
        "math.gcd(a, b): Computes the greatest common divisor.\n",
        "\n",
        "math.fabs(x): Returns the absolute value as a float."
      ],
      "metadata": {
        "id": "dia_W93hgRi2"
      }
    },
    {
      "cell_type": "code",
      "source": [
        "print(math.factorial(5))\n",
        "print(math.gcd(20, 8))\n",
        "print(math.fabs(-7.5))"
      ],
      "metadata": {
        "colab": {
          "base_uri": "https://localhost:8080/"
        },
        "id": "yH1Uy-wrgSq9",
        "outputId": "a91d9fe5-ed10-4427-b131-a5695c60d687"
      },
      "execution_count": 6,
      "outputs": [
        {
          "output_type": "stream",
          "name": "stdout",
          "text": [
            "120\n",
            "4\n",
            "7.5\n"
          ]
        }
      ]
    },
    {
      "cell_type": "markdown",
      "source": [
        "5. Constants\n",
        "\n",
        "math.pi: The value of π.\n",
        "\n",
        "math.e: The value of Euler’s number e."
      ],
      "metadata": {
        "id": "KZhimlBGj1Ae"
      }
    },
    {
      "cell_type": "code",
      "source": [
        "print(math.pi)\n",
        "print(math.e)"
      ],
      "metadata": {
        "colab": {
          "base_uri": "https://localhost:8080/"
        },
        "id": "ntP91lyCj2xG",
        "outputId": "c8d82f72-3049-44ca-e810-0e874141a3a4"
      },
      "execution_count": 7,
      "outputs": [
        {
          "output_type": "stream",
          "name": "stdout",
          "text": [
            "3.141592653589793\n",
            "2.718281828459045\n"
          ]
        }
      ]
    },
    {
      "cell_type": "markdown",
      "source": [
        "SciPy\n",
        "\n",
        "SciPy is a scientific computation library that uses NumPy underneath.\n",
        "\n",
        "SciPy stands for Scientific Python.\n",
        "\n",
        "It provides more utility functions for optimization, stats and signal processing.\n",
        "\n",
        "Like NumPy, SciPy is open source so we can use it freely.\n",
        "\n",
        "SciPy was created by NumPy's creator Travis Olliphant."
      ],
      "metadata": {
        "id": "zkLkVY3kkD6G"
      }
    },
    {
      "cell_type": "code",
      "source": [
        "\n",
        "from scipy import constants\n",
        "\n",
        "print(constants.pi)\n",
        "\n",
        "print(constants.yotta)\n",
        "print(constants.zetta)\n",
        "print(constants.exa)\n",
        "print(constants.peta)\n",
        "print(constants.tera)\n",
        "print(constants.giga)\n",
        "print(constants.mega)\n",
        "print(constants.kilo)\n",
        "print(constants.hecto)\n",
        "print(constants.deka)\n",
        "print(constants.deci)\n",
        "print(constants.centi)\n",
        "print(constants.milli)\n",
        "print(constants.micro)\n",
        "print(constants.nano)\n",
        "print(constants.pico)\n",
        "print(constants.atto)\n",
        "print(constants.zepto)"
      ],
      "metadata": {
        "colab": {
          "base_uri": "https://localhost:8080/"
        },
        "id": "StGP97lhkEsG",
        "outputId": "5a76e962-2356-415d-d94b-4086883c5303"
      },
      "execution_count": 8,
      "outputs": [
        {
          "output_type": "stream",
          "name": "stdout",
          "text": [
            "3.141592653589793\n",
            "1e+24\n",
            "1e+21\n",
            "1e+18\n",
            "1000000000000000.0\n",
            "1000000000000.0\n",
            "1000000000.0\n",
            "1000000.0\n",
            "1000.0\n",
            "100.0\n",
            "10.0\n",
            "0.1\n",
            "0.01\n",
            "0.001\n",
            "1e-06\n",
            "1e-09\n",
            "1e-12\n",
            "1e-18\n",
            "1e-21\n"
          ]
        }
      ]
    },
    {
      "cell_type": "code",
      "source": [
        "\n"
      ],
      "metadata": {
        "id": "FGD7ruboMOi1"
      },
      "execution_count": null,
      "outputs": []
    },
    {
      "cell_type": "markdown",
      "source": [],
      "metadata": {
        "id": "rfHlaDTPJSDe"
      }
    }
  ]
}